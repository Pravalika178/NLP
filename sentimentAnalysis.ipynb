{
 "cells": [
  {
   "cell_type": "code",
   "execution_count": 1,
   "id": "fe369cbd",
   "metadata": {},
   "outputs": [
    {
     "name": "stdout",
     "output_type": "stream",
     "text": [
      "Requirement already satisfied: matplotlib in c:\\users\\prathik\\desktop\\python_analytics_module\\.venv\\lib\\site-packages (3.9.4)\n",
      "Requirement already satisfied: seaborn in c:\\users\\prathik\\desktop\\python_analytics_module\\.venv\\lib\\site-packages (0.13.2)\n",
      "Requirement already satisfied: nltk in c:\\users\\prathik\\desktop\\python_analytics_module\\.venv\\lib\\site-packages (3.9.1)\n",
      "Requirement already satisfied: contourpy>=1.0.1 in c:\\users\\prathik\\desktop\\python_analytics_module\\.venv\\lib\\site-packages (from matplotlib) (1.3.0)\n",
      "Requirement already satisfied: cycler>=0.10 in c:\\users\\prathik\\desktop\\python_analytics_module\\.venv\\lib\\site-packages (from matplotlib) (0.12.1)\n",
      "Requirement already satisfied: fonttools>=4.22.0 in c:\\users\\prathik\\desktop\\python_analytics_module\\.venv\\lib\\site-packages (from matplotlib) (4.59.0)\n",
      "Requirement already satisfied: kiwisolver>=1.3.1 in c:\\users\\prathik\\desktop\\python_analytics_module\\.venv\\lib\\site-packages (from matplotlib) (1.4.7)\n",
      "Requirement already satisfied: numpy>=1.23 in c:\\users\\prathik\\desktop\\python_analytics_module\\.venv\\lib\\site-packages (from matplotlib) (2.0.2)\n",
      "Requirement already satisfied: packaging>=20.0 in c:\\users\\prathik\\desktop\\python_analytics_module\\.venv\\lib\\site-packages (from matplotlib) (25.0)\n",
      "Requirement already satisfied: pillow>=8 in c:\\users\\prathik\\desktop\\python_analytics_module\\.venv\\lib\\site-packages (from matplotlib) (11.3.0)\n",
      "Requirement already satisfied: pyparsing>=2.3.1 in c:\\users\\prathik\\desktop\\python_analytics_module\\.venv\\lib\\site-packages (from matplotlib) (3.2.3)\n",
      "Requirement already satisfied: python-dateutil>=2.7 in c:\\users\\prathik\\desktop\\python_analytics_module\\.venv\\lib\\site-packages (from matplotlib) (2.9.0.post0)\n",
      "Requirement already satisfied: importlib-resources>=3.2.0 in c:\\users\\prathik\\desktop\\python_analytics_module\\.venv\\lib\\site-packages (from matplotlib) (6.5.2)\n",
      "Requirement already satisfied: pandas>=1.2 in c:\\users\\prathik\\desktop\\python_analytics_module\\.venv\\lib\\site-packages (from seaborn) (2.3.1)\n",
      "Requirement already satisfied: click in c:\\users\\prathik\\desktop\\python_analytics_module\\.venv\\lib\\site-packages (from nltk) (8.1.8)\n",
      "Requirement already satisfied: joblib in c:\\users\\prathik\\desktop\\python_analytics_module\\.venv\\lib\\site-packages (from nltk) (1.5.1)\n",
      "Requirement already satisfied: regex>=2021.8.3 in c:\\users\\prathik\\desktop\\python_analytics_module\\.venv\\lib\\site-packages (from nltk) (2025.7.34)\n",
      "Requirement already satisfied: tqdm in c:\\users\\prathik\\desktop\\python_analytics_module\\.venv\\lib\\site-packages (from nltk) (4.67.1)\n",
      "Requirement already satisfied: zipp>=3.1.0 in c:\\users\\prathik\\desktop\\python_analytics_module\\.venv\\lib\\site-packages (from importlib-resources>=3.2.0->matplotlib) (3.23.0)\n",
      "Requirement already satisfied: pytz>=2020.1 in c:\\users\\prathik\\desktop\\python_analytics_module\\.venv\\lib\\site-packages (from pandas>=1.2->seaborn) (2025.2)\n",
      "Requirement already satisfied: tzdata>=2022.7 in c:\\users\\prathik\\desktop\\python_analytics_module\\.venv\\lib\\site-packages (from pandas>=1.2->seaborn) (2025.2)\n",
      "Requirement already satisfied: six>=1.5 in c:\\users\\prathik\\desktop\\python_analytics_module\\.venv\\lib\\site-packages (from python-dateutil>=2.7->matplotlib) (1.17.0)\n",
      "Requirement already satisfied: colorama in c:\\users\\prathik\\desktop\\python_analytics_module\\.venv\\lib\\site-packages (from click->nltk) (0.4.6)\n",
      "Note: you may need to restart the kernel to use updated packages.\n"
     ]
    }
   ],
   "source": [
    "pip install matplotlib seaborn nltk"
   ]
  },
  {
   "cell_type": "code",
   "execution_count": 2,
   "id": "b5d0c021",
   "metadata": {},
   "outputs": [],
   "source": [
    "import pandas as pd \n",
    "import numpy as np \n",
    "import matplotlib.pyplot as plt \n",
    "import seaborn as sns\n",
    "import nltk\n",
    "from sklearn.model_selection import train_test_split\n",
    "from sklearn.feature_extraction.text import CountVectorizer\n",
    "from sklearn.linear_model import LogisticRegression\n",
    "from sklearn.metrics import classification_report,confusion_matrix,accuracy_score"
   ]
  },
  {
   "cell_type": "code",
   "execution_count": 3,
   "id": "a62b3566",
   "metadata": {},
   "outputs": [
    {
     "name": "stderr",
     "output_type": "stream",
     "text": [
      "[nltk_data] Downloading package stopwords to\n",
      "[nltk_data]     C:\\Users\\PRATHIK\\AppData\\Roaming\\nltk_data...\n",
      "[nltk_data]   Package stopwords is already up-to-date!\n",
      "[nltk_data] Downloading package punkt to\n",
      "[nltk_data]     C:\\Users\\PRATHIK\\AppData\\Roaming\\nltk_data...\n",
      "[nltk_data]   Package punkt is already up-to-date!\n"
     ]
    }
   ],
   "source": [
    "nltk.download('stopwords')\n",
    "nltk.download('punkt')\n",
    "from nltk.corpus import stopwords\n",
    "from nltk.tokenize import word_tokenize\n",
    "import re\n"
   ]
  },
  {
   "cell_type": "code",
   "execution_count": 4,
   "id": "0cf16806",
   "metadata": {},
   "outputs": [
    {
     "data": {
      "text/html": [
       "<div>\n",
       "<style scoped>\n",
       "    .dataframe tbody tr th:only-of-type {\n",
       "        vertical-align: middle;\n",
       "    }\n",
       "\n",
       "    .dataframe tbody tr th {\n",
       "        vertical-align: top;\n",
       "    }\n",
       "\n",
       "    .dataframe thead th {\n",
       "        text-align: right;\n",
       "    }\n",
       "</style>\n",
       "<table border=\"1\" class=\"dataframe\">\n",
       "  <thead>\n",
       "    <tr style=\"text-align: right;\">\n",
       "      <th></th>\n",
       "      <th>review</th>\n",
       "      <th>sentiment</th>\n",
       "    </tr>\n",
       "  </thead>\n",
       "  <tbody>\n",
       "    <tr>\n",
       "      <th>0</th>\n",
       "      <td>One of the other reviewers has mentioned that ...</td>\n",
       "      <td>positive</td>\n",
       "    </tr>\n",
       "    <tr>\n",
       "      <th>1</th>\n",
       "      <td>A wonderful little production. &lt;br /&gt;&lt;br /&gt;The...</td>\n",
       "      <td>positive</td>\n",
       "    </tr>\n",
       "    <tr>\n",
       "      <th>2</th>\n",
       "      <td>I thought this was a wonderful way to spend ti...</td>\n",
       "      <td>positive</td>\n",
       "    </tr>\n",
       "    <tr>\n",
       "      <th>3</th>\n",
       "      <td>Basically there's a family where a little boy ...</td>\n",
       "      <td>negative</td>\n",
       "    </tr>\n",
       "    <tr>\n",
       "      <th>4</th>\n",
       "      <td>Petter Mattei's \"Love in the Time of Money\" is...</td>\n",
       "      <td>positive</td>\n",
       "    </tr>\n",
       "    <tr>\n",
       "      <th>...</th>\n",
       "      <td>...</td>\n",
       "      <td>...</td>\n",
       "    </tr>\n",
       "    <tr>\n",
       "      <th>49995</th>\n",
       "      <td>I thought this movie did a down right good job...</td>\n",
       "      <td>positive</td>\n",
       "    </tr>\n",
       "    <tr>\n",
       "      <th>49996</th>\n",
       "      <td>Bad plot, bad dialogue, bad acting, idiotic di...</td>\n",
       "      <td>negative</td>\n",
       "    </tr>\n",
       "    <tr>\n",
       "      <th>49997</th>\n",
       "      <td>I am a Catholic taught in parochial elementary...</td>\n",
       "      <td>negative</td>\n",
       "    </tr>\n",
       "    <tr>\n",
       "      <th>49998</th>\n",
       "      <td>I'm going to have to disagree with the previou...</td>\n",
       "      <td>negative</td>\n",
       "    </tr>\n",
       "    <tr>\n",
       "      <th>49999</th>\n",
       "      <td>No one expects the Star Trek movies to be high...</td>\n",
       "      <td>negative</td>\n",
       "    </tr>\n",
       "  </tbody>\n",
       "</table>\n",
       "<p>50000 rows × 2 columns</p>\n",
       "</div>"
      ],
      "text/plain": [
       "                                                  review sentiment\n",
       "0      One of the other reviewers has mentioned that ...  positive\n",
       "1      A wonderful little production. <br /><br />The...  positive\n",
       "2      I thought this was a wonderful way to spend ti...  positive\n",
       "3      Basically there's a family where a little boy ...  negative\n",
       "4      Petter Mattei's \"Love in the Time of Money\" is...  positive\n",
       "...                                                  ...       ...\n",
       "49995  I thought this movie did a down right good job...  positive\n",
       "49996  Bad plot, bad dialogue, bad acting, idiotic di...  negative\n",
       "49997  I am a Catholic taught in parochial elementary...  negative\n",
       "49998  I'm going to have to disagree with the previou...  negative\n",
       "49999  No one expects the Star Trek movies to be high...  negative\n",
       "\n",
       "[50000 rows x 2 columns]"
      ]
     },
     "execution_count": 4,
     "metadata": {},
     "output_type": "execute_result"
    }
   ],
   "source": [
    "df=pd.read_csv('IMDB Dataset.csv')\n",
    "df"
   ]
  },
  {
   "cell_type": "code",
   "execution_count": 5,
   "id": "ac162f00",
   "metadata": {},
   "outputs": [
    {
     "name": "stderr",
     "output_type": "stream",
     "text": [
      "[nltk_data] Downloading package wordnet to\n",
      "[nltk_data]     C:\\Users\\PRATHIK\\AppData\\Roaming\\nltk_data...\n",
      "[nltk_data]   Package wordnet is already up-to-date!\n"
     ]
    },
    {
     "data": {
      "text/plain": [
       "True"
      ]
     },
     "execution_count": 5,
     "metadata": {},
     "output_type": "execute_result"
    }
   ],
   "source": [
    "#Lemmatization\n",
    "nltk.download('wordnet')"
   ]
  },
  {
   "cell_type": "code",
   "execution_count": 7,
   "id": "3982e4ea",
   "metadata": {},
   "outputs": [
    {
     "name": "stderr",
     "output_type": "stream",
     "text": [
      "[nltk_data] Downloading package punkt to\n",
      "[nltk_data]     C:\\Users\\PRATHIK\\AppData\\Roaming\\nltk_data...\n",
      "[nltk_data]   Package punkt is already up-to-date!\n",
      "[nltk_data] Downloading package stopwords to\n",
      "[nltk_data]     C:\\Users\\PRATHIK\\AppData\\Roaming\\nltk_data...\n",
      "[nltk_data]   Package stopwords is already up-to-date!\n"
     ]
    }
   ],
   "source": [
    "import nltk\n",
    "from nltk.corpus import stopwords\n",
    "from nltk.tokenize import word_tokenize\n",
    "\n",
    "# Download necessary NLTK data (only once)\n",
    "nltk.download('punkt')\n",
    "nltk.download('stopwords')\n",
    "\n",
    "def preprocess_text(text):\n",
    "    tokens = word_tokenize(text)  # Tokenize the text\n",
    "    tokens = [word for word in tokens if word.lower() not in stopwords.words('english')]  # Remove stopwords\n",
    "    return ' '.join(tokens)"
   ]
  },
  {
   "cell_type": "code",
   "execution_count": 9,
   "id": "f48dce9f",
   "metadata": {},
   "outputs": [
    {
     "name": "stderr",
     "output_type": "stream",
     "text": [
      "[nltk_data] Downloading package punkt to\n",
      "[nltk_data]     C:\\Users\\PRATHIK\\AppData\\Roaming\\nltk_data...\n",
      "[nltk_data]   Package punkt is already up-to-date!\n",
      "[nltk_data] Downloading package stopwords to\n",
      "[nltk_data]     C:\\Users\\PRATHIK\\AppData\\Roaming\\nltk_data...\n",
      "[nltk_data]   Package stopwords is already up-to-date!\n"
     ]
    }
   ],
   "source": [
    "import nltk\n",
    "from nltk.corpus import stopwords\n",
    "from nltk.tokenize import word_tokenize\n",
    "\n",
    "nltk.download('punkt')\n",
    "nltk.download('stopwords')\n",
    "\n",
    "# Load stopwords just once\n",
    "english_stopwords = set(stopwords.words('english'))\n",
    "\n",
    "def preprocess_text(text):\n",
    "    tokens = word_tokenize(text)\n",
    "    tokens = [word for word in tokens if word.lower() not in english_stopwords]\n",
    "    return ' '.join(tokens)"
   ]
  },
  {
   "cell_type": "code",
   "execution_count": 10,
   "id": "6e65fdb2",
   "metadata": {},
   "outputs": [],
   "source": [
    "df['cleaned_review'] = df['review'].apply(preprocess_text)"
   ]
  },
  {
   "cell_type": "code",
   "execution_count": 11,
   "id": "ab5f3f0a",
   "metadata": {},
   "outputs": [
    {
     "name": "stdout",
     "output_type": "stream",
     "text": [
      "TF-IDF Matrix Shape: (50000, 101879)\n",
      "Sample TF-IDF Row:   (np.int32(0), np.int32(64119))\t1\n",
      "  (np.int32(0), np.int32(75499))\t1\n",
      "  (np.int32(0), np.int32(57549))\t1\n",
      "  (np.int32(0), np.int32(98210))\t1\n",
      "  (np.int32(0), np.int32(65457))\t1\n",
      "  (np.int32(0), np.int32(30108))\t1\n",
      "  (np.int32(0), np.int32(53214))\t1\n",
      "  (np.int32(0), np.int32(42842))\t1\n",
      "  (np.int32(0), np.int32(75903))\t1\n",
      "  (np.int32(0), np.int32(30970))\t1\n",
      "  (np.int32(0), np.int32(40438))\t1\n",
      "  (np.int32(0), np.int32(56973))\t1\n",
      "  (np.int32(0), np.int32(12040))\t1\n",
      "  (np.int32(0), np.int32(33521))\t1\n",
      "  (np.int32(0), np.int32(90384))\t1\n",
      "  (np.int32(0), np.int32(86582))\t1\n",
      "  (np.int32(0), np.int32(12973))\t1\n",
      "  (np.int32(0), np.int32(94604))\t1\n",
      "  (np.int32(0), np.int32(78734))\t1\n",
      "  (np.int32(0), np.int32(97126))\t1\n",
      "  (np.int32(0), np.int32(80300))\t1\n",
      "  (np.int32(0), np.int32(100079))\t1\n",
      "  (np.int32(0), np.int32(37790))\t1\n",
      "  (np.int32(0), np.int32(92947))\t1\n",
      "  (np.int32(0), np.int32(81423))\t1\n",
      "  :\t:\n",
      "  (np.int32(0), np.int32(83687))\t1\n",
      "  (np.int32(0), np.int32(62191))\t1\n",
      "  (np.int32(0), np.int32(45636))\t1\n",
      "  (np.int32(0), np.int32(49621))\t1\n",
      "  (np.int32(0), np.int32(64470))\t1\n",
      "  (np.int32(0), np.int32(37008))\t1\n",
      "  (np.int32(0), np.int32(98610))\t1\n",
      "  (np.int32(0), np.int32(55516))\t1\n",
      "  (np.int32(0), np.int32(58073))\t1\n",
      "  (np.int32(0), np.int32(17531))\t1\n",
      "  (np.int32(0), np.int32(93260))\t1\n",
      "  (np.int32(0), np.int32(10354))\t1\n",
      "  (np.int32(0), np.int32(50940))\t1\n",
      "  (np.int32(0), np.int32(86398))\t1\n",
      "  (np.int32(0), np.int32(82430))\t1\n",
      "  (np.int32(0), np.int32(31357))\t1\n",
      "  (np.int32(0), np.int32(56531))\t1\n",
      "  (np.int32(0), np.int32(8959))\t1\n",
      "  (np.int32(0), np.int32(18634))\t1\n",
      "  (np.int32(0), np.int32(94081))\t1\n",
      "  (np.int32(0), np.int32(96947))\t1\n",
      "  (np.int32(0), np.int32(90131))\t1\n",
      "  (np.int32(0), np.int32(91759))\t1\n",
      "  (np.int32(0), np.int32(22624))\t1\n",
      "  (np.int32(0), np.int32(81727))\t1\n"
     ]
    }
   ],
   "source": [
    "from sklearn.feature_extraction.text import CountVectorizer\n",
    "\n",
    "vectorizer= CountVectorizer(binary=True)\n",
    "X=vectorizer.fit_transform(df['cleaned_review'])\n",
    "y=df['sentiment'].apply(lambda x:1 if x=='positive' else 0)\n",
    "print(\"TF-IDF Matrix Shape:\", X.shape)\n",
    "print(\"Sample TF-IDF Row:\", X[0][:10])"
   ]
  },
  {
   "cell_type": "code",
   "execution_count": 12,
   "id": "3a2355ee",
   "metadata": {},
   "outputs": [
    {
     "name": "stdout",
     "output_type": "stream",
     "text": [
      "  (np.int32(0), np.int32(64119))\t1\n",
      "  (np.int32(0), np.int32(33521))\t1\n",
      "  (np.int32(0), np.int32(54959))\t1\n",
      "  (np.int32(0), np.int32(27601))\t1\n",
      "  (np.int32(0), np.int32(30813))\t1\n",
      "  (np.int32(0), np.int32(20603))\t1\n",
      "  (np.int32(0), np.int32(90920))\t1\n",
      "  (np.int32(0), np.int32(73353))\t1\n",
      "  (np.int32(0), np.int32(39293))\t1\n",
      "  (np.int32(0), np.int32(30844))\t1\n",
      "  (np.int32(0), np.int32(56273))\t1\n",
      "  (np.int32(0), np.int32(46101))\t1\n",
      "  (np.int32(0), np.int32(63915))\t1\n",
      "  (np.int32(0), np.int32(52738))\t1\n",
      "  (np.int32(0), np.int32(57))\t1\n",
      "  (np.int32(0), np.int32(4918))\t1\n",
      "  (np.int32(0), np.int32(53570))\t1\n",
      "  (np.int32(0), np.int32(100145))\t1\n",
      "  (np.int32(0), np.int32(10032))\t1\n",
      "  (np.int32(0), np.int32(9746))\t1\n",
      "  (np.int32(0), np.int32(11719))\t1\n",
      "  (np.int32(0), np.int32(90946))\t1\n",
      "  (np.int32(0), np.int32(49523))\t1\n",
      "  (np.int32(0), np.int32(43403))\t1\n",
      "  (np.int32(0), np.int32(52742))\t1\n",
      "  :\t:\n",
      "  (np.int32(9999), np.int32(60349))\t1\n",
      "  (np.int32(9999), np.int32(78681))\t1\n",
      "  (np.int32(9999), np.int32(3098))\t1\n",
      "  (np.int32(9999), np.int32(36941))\t1\n",
      "  (np.int32(9999), np.int32(74530))\t1\n",
      "  (np.int32(9999), np.int32(90395))\t1\n",
      "  (np.int32(9999), np.int32(96863))\t1\n",
      "  (np.int32(9999), np.int32(79620))\t1\n",
      "  (np.int32(9999), np.int32(43190))\t1\n",
      "  (np.int32(9999), np.int32(27516))\t1\n",
      "  (np.int32(9999), np.int32(63924))\t1\n",
      "  (np.int32(9999), np.int32(79731))\t1\n",
      "  (np.int32(9999), np.int32(14192))\t1\n",
      "  (np.int32(9999), np.int32(86163))\t1\n",
      "  (np.int32(9999), np.int32(4508))\t1\n",
      "  (np.int32(9999), np.int32(31243))\t1\n",
      "  (np.int32(9999), np.int32(74364))\t1\n",
      "  (np.int32(9999), np.int32(91461))\t1\n",
      "  (np.int32(9999), np.int32(28443))\t1\n",
      "  (np.int32(9999), np.int32(27798))\t1\n",
      "  (np.int32(9999), np.int32(39096))\t1\n",
      "  (np.int32(9999), np.int32(18405))\t1\n",
      "  (np.int32(9999), np.int32(34955))\t1\n",
      "  (np.int32(9999), np.int32(21825))\t1\n",
      "  (np.int32(9999), np.int32(69345))\t1\n"
     ]
    }
   ],
   "source": [
    "from sklearn.model_selection import train_test_split\n",
    "X_train, X_test, y_train, y_test=train_test_split(X,y,test_size=0.2, random_state=42)\n",
    "print(X_test)"
   ]
  },
  {
   "cell_type": "code",
   "execution_count": 13,
   "id": "21f96e7a",
   "metadata": {},
   "outputs": [
    {
     "name": "stdout",
     "output_type": "stream",
     "text": [
      "Model trained successfully!\n"
     ]
    }
   ],
   "source": [
    "from sklearn.linear_model import LogisticRegression\n",
    "model=LogisticRegression()\n",
    "model.fit(X_train, y_train)\n",
    "print(\"Model trained successfully!\")"
   ]
  },
  {
   "cell_type": "code",
   "execution_count": 14,
   "id": "800b9a04",
   "metadata": {},
   "outputs": [
    {
     "name": "stdout",
     "output_type": "stream",
     "text": [
      "accuracy score 88.32\n"
     ]
    }
   ],
   "source": [
    "from sklearn.metrics import accuracy_score\n",
    "y_pred = model.predict(X_test)\n",
    "print(\"accuracy score\", accuracy_score(y_test, y_pred)*100)"
   ]
  },
  {
   "cell_type": "code",
   "execution_count": 15,
   "id": "1ee35526",
   "metadata": {},
   "outputs": [],
   "source": [
    "def predict_sentiment(review_text):\n",
    "    claned=preprocess_text(review_text)\n",
    "    vectorized=vectorizer.transform([claned])\n",
    "    prediction=model.predict(vectorized)[0]\n",
    "    sentiment=\"Positive 😊\" if prediction == 1 else \"Negative 😐\"\n",
    "    return sentiment"
   ]
  },
  {
   "cell_type": "code",
   "execution_count": 16,
   "id": "ba8d9203",
   "metadata": {},
   "outputs": [
    {
     "name": "stdout",
     "output_type": "stream",
     "text": [
      "Review: The movie was fantastic! The performances were top-notch and the story was gripping.\n",
      "Predicted Sentiment: Positive 😊\n",
      "\n",
      "Review: This was a terrible movie. Boring plot and awful acting.\n",
      "Predicted Sentiment: Negative 😐\n"
     ]
    }
   ],
   "source": [
    "input_review=\"The movie was fantastic! The performances were top-notch and the story was gripping.\"\n",
    "print(\"Review:\", input_review)\n",
    "print(\"Predicted Sentiment:\", predict_sentiment(input_review))\n",
    "\n",
    "#Example 2\n",
    "input_review=\"This was a terrible movie. Boring plot and awful acting.\"\n",
    "print(\"\\nReview:\", input_review)\n",
    "print(\"Predicted Sentiment:\", predict_sentiment(input_review))"
   ]
  }
 ],
 "metadata": {
  "kernelspec": {
   "display_name": ".venv (3.9.13)",
   "language": "python",
   "name": "python3"
  },
  "language_info": {
   "codemirror_mode": {
    "name": "ipython",
    "version": 3
   },
   "file_extension": ".py",
   "mimetype": "text/x-python",
   "name": "python",
   "nbconvert_exporter": "python",
   "pygments_lexer": "ipython3",
   "version": "3.9.13"
  }
 },
 "nbformat": 4,
 "nbformat_minor": 5
}
